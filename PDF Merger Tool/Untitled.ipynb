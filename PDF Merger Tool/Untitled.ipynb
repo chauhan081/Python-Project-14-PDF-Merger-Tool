{
 "cells": [
  {
   "cell_type": "code",
   "execution_count": null,
   "id": "0ba5cf12-bd5b-4510-9a60-3d002c4c14fd",
   "metadata": {},
   "outputs": [],
   "source": [
    "import PyPDF2\n",
    "import os\n",
    "\n",
    "List of PDFs to merge\n",
    "pdfs = ['file1.pdf', 'file2.pdf', 'file3.pdf']\n",
    "\n",
    "merger = PyPDF2.PdfMerger()\n",
    "\n",
    "for pdf in pdfs:\n",
    "    merger.append(pdf)\n",
    "\n",
    "merger.write(\"merged_output.pdf\")\n",
    "merger.close()"
   ]
  }
 ],
 "metadata": {
  "kernelspec": {
   "display_name": "Python 3 (ipykernel)",
   "language": "python",
   "name": "python3"
  },
  "language_info": {
   "codemirror_mode": {
    "name": "ipython",
    "version": 3
   },
   "file_extension": ".py",
   "mimetype": "text/x-python",
   "name": "python",
   "nbconvert_exporter": "python",
   "pygments_lexer": "ipython3",
   "version": "3.13.5"
  }
 },
 "nbformat": 4,
 "nbformat_minor": 5
}
